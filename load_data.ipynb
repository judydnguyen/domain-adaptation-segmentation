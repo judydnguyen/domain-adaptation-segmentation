{
 "cells": [
  {
   "cell_type": "code",
   "execution_count": 1,
   "metadata": {},
   "outputs": [
    {
     "name": "stderr",
     "output_type": "stream",
     "text": [
      "/home/judy/.local/lib/python3.10/site-packages/tqdm/auto.py:21: TqdmWarning: IProgress not found. Please update jupyter and ipywidgets. See https://ipywidgets.readthedocs.io/en/stable/user_install.html\n",
      "  from .autonotebook import tqdm as notebook_tqdm\n"
     ]
    },
    {
     "name": "stdout",
     "output_type": "stream",
     "text": [
      "Downloading from https://www.kaggle.com/api/v1/datasets/download/mateuszbuda/lgg-mri-segmentation?dataset_version_number=2...\n"
     ]
    },
    {
     "name": "stderr",
     "output_type": "stream",
     "text": [
      "100%|██████████| 714M/714M [00:09<00:00, 75.8MB/s] \n"
     ]
    },
    {
     "name": "stdout",
     "output_type": "stream",
     "text": [
      "Extracting files...\n",
      "Path to dataset files: /home/judy/.cache/kagglehub/datasets/mateuszbuda/lgg-mri-segmentation/versions/2\n"
     ]
    }
   ],
   "source": [
    "import kagglehub\n",
    "\n",
    "# Download latest version\n",
    "path = kagglehub.dataset_download(\"mateuszbuda/lgg-mri-segmentation\")\n",
    "\n",
    "print(\"Path to dataset files:\", path)"
   ]
  },
  {
   "cell_type": "code",
   "execution_count": 2,
   "metadata": {},
   "outputs": [],
   "source": [
    "!mv /home/judy/.cache/kagglehub/datasets/mateuszbuda/lgg-mri-segmentation/versions/2 datasets/"
   ]
  },
  {
   "cell_type": "code",
   "execution_count": 1,
   "metadata": {},
   "outputs": [
    {
     "name": "stdout",
     "output_type": "stream",
     "text": [
      "usage: inference.py [-h] [--device DEVICE] [--batch-size BATCH_SIZE] --weights\n",
      "                    WEIGHTS [--images IMAGES] [--image-size IMAGE_SIZE]\n",
      "                    [--predictions PREDICTIONS] [--figure FIGURE]\n",
      "\n",
      "Inference for segmentation of brain MRI\n",
      "\n",
      "options:\n",
      "  -h, --help            show this help message and exit\n",
      "  --device DEVICE       device for training (default: cuda:0)\n",
      "  --batch-size BATCH_SIZE\n",
      "                        input batch size for training (default: 32)\n",
      "  --weights WEIGHTS     path to weights file\n",
      "  --images IMAGES       root folder with images\n",
      "  --image-size IMAGE_SIZE\n",
      "                        target input image size (default: 256)\n",
      "  --predictions PREDICTIONS\n",
      "                        folder for saving images with prediction outlines\n",
      "  --figure FIGURE       filename for DSC distribution figure\n"
     ]
    }
   ],
   "source": [
    "!python3 inference.py --help"
   ]
  },
  {
   "cell_type": "code",
   "execution_count": 4,
   "metadata": {},
   "outputs": [
    {
     "name": "stdout",
     "output_type": "stream",
     "text": [
      "reading validation images...\n",
      "preprocessing validation volumes...\n",
      "cropping validation volumes...\n",
      "padding validation volumes...\n",
      "resizing validation volumes...\n",
      "normalizing validation volumes...\n",
      "done creating validation dataset\n",
      "/home/judy/code/brain-segmentation-pytorch/inference.py:26: FutureWarning: You are using `torch.load` with `weights_only=False` (the current default value), which uses the default pickle module implicitly. It is possible to construct malicious pickle data which will execute arbitrary code during unpickling (See https://github.com/pytorch/pytorch/blob/main/SECURITY.md#untrusted-models for more details). In a future release, the default value for `weights_only` will be flipped to `True`. This limits the functions that could be executed during unpickling. Arbitrary objects will no longer be allowed to be loaded via this mode unless they are explicitly allowlisted by the user via `torch.serialization.add_safe_globals`. We recommend you start setting `weights_only=True` for any use case where you don't have full control of the loaded file. Please open an issue on GitHub for any issues related to this experimental feature.\n",
      "  state_dict = torch.load(args.weights, map_location=device)\n",
      "11it [00:01,  6.18it/s]\n",
      "/home/judy/code/brain-segmentation-pytorch/inference.py:135: DeprecationWarning: The binary mode of fromstring is deprecated, as it behaves surprisingly on unicode inputs. Use frombuffer instead\n",
      "  return np.fromstring(s, np.uint8).reshape((height, width, 4))\n",
      "/home/judy/code/brain-segmentation-pytorch/inference.py:72: UserWarning: ./predictions/TCGA_DU_7014_19860618-57.png is a low contrast image\n",
      "  imsave(filepath, image)\n",
      "/home/judy/code/brain-segmentation-pytorch/inference.py:72: UserWarning: ./predictions/TCGA_DU_6408_19860521-51.png is a low contrast image\n",
      "  imsave(filepath, image)\n",
      "/home/judy/code/brain-segmentation-pytorch/inference.py:72: UserWarning: ./predictions/TCGA_DU_6408_19860521-52.png is a low contrast image\n",
      "  imsave(filepath, image)\n",
      "/home/judy/code/brain-segmentation-pytorch/inference.py:72: UserWarning: ./predictions/TCGA_DU_6408_19860521-53.png is a low contrast image\n",
      "  imsave(filepath, image)\n",
      "/home/judy/code/brain-segmentation-pytorch/inference.py:72: UserWarning: ./predictions/TCGA_DU_6404_19850629-50.png is a low contrast image\n",
      "  imsave(filepath, image)\n",
      "/home/judy/code/brain-segmentation-pytorch/inference.py:72: UserWarning: ./predictions/TCGA_DU_5851_19950428-34.png is a low contrast image\n",
      "  imsave(filepath, image)\n"
     ]
    }
   ],
   "source": [
    "!python3 inference.py --images datasets/2/lgg-mri-segmentation/kaggle_3m --weights weights/unet.pt"
   ]
  },
  {
   "cell_type": "markdown",
   "metadata": {},
   "source": [
    "Results will be saved at `predictions`"
   ]
  },
  {
   "cell_type": "code",
   "execution_count": 5,
   "metadata": {},
   "outputs": [
    {
     "name": "stdout",
     "output_type": "stream",
     "text": [
      "predictions/TCGA_CS_4944_20010208-00.png\n",
      "predictions/TCGA_CS_4944_20010208-01.png\n",
      "predictions/TCGA_CS_4944_20010208-02.png\n",
      "predictions/TCGA_CS_4944_20010208-03.png\n",
      "predictions/TCGA_CS_4944_20010208-04.png\n",
      "predictions/TCGA_CS_4944_20010208-05.png\n",
      "predictions/TCGA_CS_4944_20010208-06.png\n",
      "predictions/TCGA_CS_4944_20010208-07.png\n",
      "predictions/TCGA_CS_4944_20010208-08.png\n",
      "predictions/TCGA_CS_4944_20010208-09.png\n",
      "predictions/TCGA_CS_4944_20010208-10.png\n",
      "predictions/TCGA_CS_4944_20010208-11.png\n",
      "predictions/TCGA_CS_4944_20010208-12.png\n",
      "predictions/TCGA_CS_4944_20010208-13.png\n",
      "predictions/TCGA_CS_4944_20010208-14.png\n",
      "predictions/TCGA_CS_4944_20010208-15.png\n",
      "predictions/TCGA_CS_4944_20010208-16.png\n",
      "predictions/TCGA_CS_4944_20010208-17.png\n"
     ]
    }
   ],
   "source": [
    "# test_id\n",
    "sample_id = \"TCGA_CS_4944_20010208\"\n",
    "# find the image files in the prediction folder\n",
    "!ls predictions/{sample_id}*"
   ]
  },
  {
   "cell_type": "code",
   "execution_count": null,
   "metadata": {},
   "outputs": [],
   "source": [
    "# display the image\n",
    "from PIL import Image\n",
    "import matplotlib.pyplot as plt\n",
    "import numpy as np\n",
    "import SimpleITK as sitk\n",
    "import os\n",
    "import gui"
   ]
  },
  {
   "cell_type": "code",
   "execution_count": 10,
   "metadata": {},
   "outputs": [
    {
     "data": {
      "image/png": "[encoded data removed]",
      "text/plain": [
       "<Figure size 600x200 with 18 Axes>"
      ]
     },
     "metadata": {},
     "output_type": "display_data"
    }
   ],
   "source": [
    "import os\n",
    "import SimpleITK as sitk\n",
    "import gui  # Assuming this is your visualization library\n",
    "\n",
    "# Function to display images\n",
    "def disp_images(images, fig_size, wl_list=None):\n",
    "    \"\"\"\n",
    "    Display a list of 2D or 3D images using a GUI library.\n",
    "    :param images: List of images to display.\n",
    "    :param fig_size: Tuple specifying the figure size.\n",
    "    :param wl_list: Optional list of window-level settings.\n",
    "    \"\"\"\n",
    "    if images[0].GetDimension() == 2:\n",
    "        gui.multi_image_display2D(\n",
    "            image_list=images, figure_size=fig_size, window_level_list=wl_list\n",
    "        )\n",
    "    else:\n",
    "        gui.MultiImageDisplay(\n",
    "            image_list=images, figure_size=fig_size, window_level_list=wl_list\n",
    "        )\n",
    "\n",
    "# Path to the folder containing prediction images\n",
    "sample_id = \"TCGA_CS_4944_20010208\"\n",
    "folder_path = \"predictions/\"\n",
    "\n",
    "# Get all image files related to the sample ID\n",
    "files = sorted([os.path.join(folder_path, f) for f in os.listdir(folder_path) if sample_id in f])\n",
    "\n",
    "# Load all the image files into SimpleITK.Image objects\n",
    "data = []\n",
    "for file in files:\n",
    "    image = sitk.ReadImage(file)  # Read the image using SimpleITK\n",
    "    data.append(image)\n",
    "\n",
    "# Display the images with specified figure size\n",
    "disp_images(data, fig_size=(6, 2))\n"
   ]
  }
 ],
 "metadata": {
  "kernelspec": {
   "display_name": "fisc",
   "language": "python",
   "name": "python3"
  },
  "language_info": {
   "codemirror_mode": {
    "name": "ipython",
    "version": 3
   },
   "file_extension": ".py",
   "mimetype": "text/x-python",
   "name": "python",
   "nbconvert_exporter": "python",
   "pygments_lexer": "ipython3",
   "version": "3.12.4"
  }
 },
 "nbformat": 4,
 "nbformat_minor": 2
}
